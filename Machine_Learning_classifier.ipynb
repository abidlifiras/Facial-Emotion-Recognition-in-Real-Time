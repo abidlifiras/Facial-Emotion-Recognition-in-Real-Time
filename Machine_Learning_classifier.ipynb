{
  "cells": [
    {
      "cell_type": "code",
      "execution_count": 4,
      "metadata": {
        "id": "2-MiC1f-Pxvu"
      },
      "outputs": [],
      "source": [
        "from time import time\n",
        "import matplotlib.pyplot as plt\n",
        "import os\n",
        "from sklearn.model_selection import train_test_split\n",
        "from sklearn.model_selection import RandomizedSearchCV\n",
        "from sklearn.datasets import fetch_lfw_people\n",
        "from sklearn.metrics import classification_report\n",
        "from sklearn.metrics import ConfusionMatrixDisplay\n",
        "from sklearn.preprocessing import StandardScaler\n",
        "from sklearn.decomposition import PCA\n",
        "from sklearn.svm import SVC\n",
        "from sklearn.utils.fixes import loguniform"
      ]
    },
    {
      "cell_type": "code",
      "execution_count": 5,
      "metadata": {
        "id": "ph0-j0v4QA3W"
      },
      "outputs": [],
      "source": [
        "os.chdir(\"./drive/MyDrive/data\")\n"
      ]
    },
    {
      "cell_type": "code",
      "execution_count": 6,
      "metadata": {
        "id": "dbrvZImVQTaL"
      },
      "outputs": [],
      "source": [
        "CATEGORIES=os.listdir(path=\"./train\")\n",
        "DATADIR=\"./train\""
      ]
    },
    {
      "cell_type": "code",
      "execution_count": 7,
      "metadata": {
        "id": "rGi-4XnhQUQV"
      },
      "outputs": [],
      "source": [
        "import numpy as np\n",
        "import pandas as pd\n",
        "import matplotlib.pyplot as plt\n",
        "%matplotlib inline\n",
        "import cv2\n",
        "\n",
        "from tqdm import tqdm"
      ]
    },
    {
      "cell_type": "code",
      "execution_count": 58,
      "metadata": {
        "id": "ymnxp2a8QZSM"
      },
      "outputs": [],
      "source": [
        "training_data=[]\n",
        "def create_training_data():\n",
        "    for category in CATEGORIES:\n",
        "      i=0\n",
        "      path=os.path.join(DATADIR, category)\n",
        "      class_num=CATEGORIES.index(category)\n",
        "      for img in os.listdir(path):\n",
        "        i=i+1\n",
        "        try:\n",
        "          img_array=cv2.imread(os.path.join(path,img))\n",
        "          #new_array=cv2.resize(img_array,(IMG_SIZE,IMG_SIZE))\n",
        "          training_data.append([img_array[:,:,1],class_num])\n",
        "        except Exception as e:\n",
        "          pass\n",
        "        if i==1000:\n",
        "          break  \n",
        "create_training_data()            "
      ]
    },
    {
      "cell_type": "code",
      "execution_count": 68,
      "metadata": {
        "colab": {
          "base_uri": "https://localhost:8080/"
        },
        "id": "BfY5urvITOd3",
        "outputId": "8655b0de-be5c-43d5-ae3b-5668ce5b1a30"
      },
      "outputs": [
        {
          "data": {
            "text/plain": [
              "5662"
            ]
          },
          "execution_count": 68,
          "metadata": {},
          "output_type": "execute_result"
        }
      ],
      "source": [
        "train_length = len(training_data)\n",
        "train_length"
      ]
    },
    {
      "cell_type": "code",
      "execution_count": 69,
      "metadata": {
        "id": "q431Bv0ZeEd8"
      },
      "outputs": [],
      "source": [
        "X_train=[]\n",
        "y_train=[]\n",
        "\n",
        "for categories, label in training_data:\n",
        "    X_train.append(categories)\n",
        "    y_train.append(label)\n",
        "X_train= np.array(X_train).reshape(train_length,-1)"
      ]
    },
    {
      "cell_type": "code",
      "execution_count": 70,
      "metadata": {
        "id": "B_C3Crc8eJcB"
      },
      "outputs": [],
      "source": [
        "validation_data=[]\n",
        "DATADIR=\"./validation\"\n",
        "def create_validation_data():\n",
        "    for category in CATEGORIES:\n",
        "        i=0\n",
        "        path=os.path.join(DATADIR, category)\n",
        "        class_num=CATEGORIES.index(category)\n",
        "        for img in os.listdir(path):\n",
        "            i=i+1\n",
        "            try:\n",
        "                img_array=cv2.imread(os.path.join(path,img))\n",
        "                #new_array=cv2.resize(img_array,(IMG_SIZE,IMG_SIZE))\n",
        "                validation_data.append([img_array[:,:,1],class_num])\n",
        "            except Exception as e:\n",
        "                pass\n",
        "            if i==40:\n",
        "              break\n",
        "create_validation_data()            "
      ]
    },
    {
      "cell_type": "code",
      "execution_count": 71,
      "metadata": {
        "colab": {
          "base_uri": "https://localhost:8080/"
        },
        "id": "3fOfboNxeJuQ",
        "outputId": "bab0ac1a-4e1f-4273-a4f4-b8a2c5af5ff3"
      },
      "outputs": [
        {
          "data": {
            "text/plain": [
              "280"
            ]
          },
          "execution_count": 71,
          "metadata": {},
          "output_type": "execute_result"
        }
      ],
      "source": [
        "val_length = len(validation_data)\n",
        "val_length"
      ]
    },
    {
      "cell_type": "code",
      "execution_count": 72,
      "metadata": {
        "id": "gZRHJcTQeMvQ"
      },
      "outputs": [],
      "source": [
        "X_val=[]\n",
        "y_val=[]\n",
        "\n",
        "for categories, label in validation_data:\n",
        "    X_val.append(categories)\n",
        "    y_val.append(label)\n",
        "X_val= np.array(X_val).reshape(val_length,-1)"
      ]
    },
    {
      "cell_type": "code",
      "execution_count": 73,
      "metadata": {
        "id": "0SrWkLHSeM0v"
      },
      "outputs": [],
      "source": [
        "test_data=[]\n",
        "DATADIR=\"./test\"\n",
        "def create_test_data():\n",
        "    for category in CATEGORIES:\n",
        "        i=0\n",
        "        path=os.path.join(DATADIR, category)\n",
        "        class_num=CATEGORIES.index(category)\n",
        "        for img in os.listdir(path):\n",
        "            i=i+1\n",
        "            try:\n",
        "                img_array=cv2.imread(os.path.join(path,img))\n",
        "                #new_array=cv2.resize(img_array,(IMG_SIZE,IMG_SIZE))\n",
        "                test_data.append([img_array[:,:,1],class_num])\n",
        "            except Exception as e:\n",
        "                pass\n",
        "            if i==30:\n",
        "              break    \n",
        "create_test_data()            "
      ]
    },
    {
      "cell_type": "code",
      "execution_count": 74,
      "metadata": {
        "colab": {
          "base_uri": "https://localhost:8080/"
        },
        "id": "l3xkY3LneM4Z",
        "outputId": "38e2875a-884c-4e0c-d430-0c01a316b211"
      },
      "outputs": [
        {
          "data": {
            "text/plain": [
              "210"
            ]
          },
          "execution_count": 74,
          "metadata": {},
          "output_type": "execute_result"
        }
      ],
      "source": [
        "test_length = len(test_data)\n",
        "test_length"
      ]
    },
    {
      "cell_type": "code",
      "execution_count": 75,
      "metadata": {
        "id": "fpc6fF2PeM9V"
      },
      "outputs": [],
      "source": [
        "X_test=[]\n",
        "y_test=[]\n",
        "\n",
        "for categories, label in test_data:\n",
        "    X_test.append(categories)\n",
        "    y_test.append(label)\n",
        "X_test= np.array(X_test).reshape(test_length,-1)"
      ]
    },
    {
      "cell_type": "code",
      "execution_count": 76,
      "metadata": {
        "id": "VOyQCYSveJ04"
      },
      "outputs": [],
      "source": [
        "X_test=[]\n",
        "y_test=[]\n",
        "\n",
        "for categories, label in test_data:\n",
        "    X_test.append(categories)\n",
        "    y_test.append(label)\n",
        "X_test= np.array(X_test).reshape(test_length,-1)"
      ]
    },
    {
      "cell_type": "code",
      "execution_count": null,
      "metadata": {
        "id": "-ew0xlP5m8t0"
      },
      "outputs": [],
      "source": []
    },
    {
      "cell_type": "code",
      "execution_count": 77,
      "metadata": {
        "id": "LQQCEdxim86x"
      },
      "outputs": [],
      "source": [
        "from sklearn.discriminant_analysis import LinearDiscriminantAnalysis"
      ]
    },
    {
      "cell_type": "code",
      "execution_count": 78,
      "metadata": {
        "id": "JTWab79Fm89o"
      },
      "outputs": [],
      "source": [
        "lda=LinearDiscriminantAnalysis(n_components=6)\n",
        "lda.fit(X_train,y_train)\n",
        "X_train_lda=lda.transform(X_train)\n",
        "X_val_lda=lda.transform(X_val)\n",
        "X_test_lda=lda.transform(X_test)"
      ]
    },
    {
      "cell_type": "code",
      "execution_count": 79,
      "metadata": {
        "colab": {
          "base_uri": "https://localhost:8080/"
        },
        "id": "Ut2ICDgtm9Ai",
        "outputId": "7817cb3f-d909-4b65-edeb-1913c9615151"
      },
      "outputs": [
        {
          "name": "stdout",
          "output_type": "stream",
          "text": [
            "Fitting the classifier to the training set\n",
            "done in 106.938s\n",
            "Best estimator found by grid search:\n",
            "SVC(C=758.9241633444675, class_weight='balanced', gamma=0.0001255895663834938)\n"
          ]
        }
      ],
      "source": [
        "print(\"Fitting the classifier to the training set\")\n",
        "t0 = time()\n",
        "param_grid = {\n",
        "    \"C\": loguniform(1e2, 1e3),\n",
        "    \"gamma\": loguniform(1e-4, 1e-1),\n",
        "}\n",
        "clf = RandomizedSearchCV(\n",
        "    SVC(kernel=\"rbf\", class_weight=\"balanced\"), param_grid, n_iter=20\n",
        ")\n",
        "clf = clf.fit(X_train_lda, y_train)\n",
        "print(\"done in %0.3fs\" % (time() - t0))\n",
        "print(\"Best estimator found by grid search:\")\n",
        "print(clf.best_estimator_)"
      ]
    },
    {
      "cell_type": "code",
      "execution_count": 80,
      "metadata": {
        "colab": {
          "base_uri": "https://localhost:8080/",
          "height": 575
        },
        "id": "rM2vlOePm9CP",
        "outputId": "da62e7bb-09ed-4953-8323-df15365675b4"
      },
      "outputs": [
        {
          "name": "stdout",
          "output_type": "stream",
          "text": [
            "Predicting people's names on the test set\n",
            "done in 0.052s\n",
            "              precision    recall  f1-score   support\n",
            "\n",
            "       angry       0.74      0.85      0.79        40\n",
            "    surprise       0.95      0.88      0.91        40\n",
            "        fear       0.79      0.75      0.77        40\n",
            "       happy       0.85      0.82      0.84        40\n",
            "     disgust       0.98      1.00      0.99        40\n",
            "     neutral       0.73      0.80      0.76        40\n",
            "         sad       0.86      0.75      0.80        40\n",
            "\n",
            "    accuracy                           0.84       280\n",
            "   macro avg       0.84      0.84      0.84       280\n",
            "weighted avg       0.84      0.84      0.84       280\n",
            "\n"
          ]
        },
        {
          "data": {
            "image/png": "[encoded data removed]",
            "text/plain": [
              "<Figure size 432x288 with 2 Axes>"
            ]
          },
          "metadata": {
            "needs_background": "light"
          },
          "output_type": "display_data"
        }
      ],
      "source": [
        "print(\"Predicting people's names on the test set\")\n",
        "t0 = time()\n",
        "y_pred = clf.predict(X_val_lda)\n",
        "print(\"done in %0.3fs\" % (time() - t0))\n",
        "\n",
        "print(classification_report(y_val, y_pred, target_names=CATEGORIES))\n",
        "ConfusionMatrixDisplay.from_estimator(\n",
        "    clf, X_val_lda, y_val, display_labels=CATEGORIES, xticks_rotation=\"vertical\"\n",
        ")\n",
        "plt.tight_layout()\n",
        "plt.show()"
      ]
    }
  ],
  "metadata": {
    "colab": {
      "provenance": []
    },
    "kernelspec": {
      "display_name": "Python 3",
      "name": "python3"
    },
    "language_info": {
      "name": "python"
    }
  },
  "nbformat": 4,
  "nbformat_minor": 0
}
