{
 "cells": [
  {
   "cell_type": "code",
   "execution_count": 1,
   "id": "a040ad02",
   "metadata": {
    "scrolled": true
   },
   "outputs": [],
   "source": [
    "from tensorflow.keras.layers import Conv2D,Flatten,MaxPooling2D,Input,BatchNormalization,Dropout,Dense\n",
    "from tensorflow.keras.models import Model"
   ]
  },
  {
   "cell_type": "code",
   "execution_count": 2,
   "id": "47c0c054",
   "metadata": {},
   "outputs": [],
   "source": [
    "def create_model(input_shape = (48,48,1),num_classes=7):\n",
    "    \n",
    "    input = Input(shape=input_shape)\n",
    "\n",
    "    x = Conv2D(filters=128,kernel_size=(3,3),activation='relu',padding='same')(input)\n",
    "    x = BatchNormalization()(x)\n",
    "    x = MaxPooling2D(pool_size=(2,2))(x)\n",
    "    x = Dropout(0.4)(x)\n",
    "\n",
    "    x = Conv2D(filters=256,kernel_size=(3,3),activation='relu',padding='same')(x)\n",
    "    x = BatchNormalization()(x)\n",
    "    x = MaxPooling2D(pool_size=(2,2))(x)\n",
    "    x = Dropout(0.4)(x)\n",
    "\t\n",
    "    x = Conv2D(filters=512,kernel_size=(3,3),activation='relu',padding='same')(x)\n",
    "    x = BatchNormalization()(x)\n",
    "    x = MaxPooling2D(pool_size=(2,2))(x)\n",
    "    x = Dropout(0.25)(x)\n",
    "\n",
    "    x = Conv2D(filters=512,kernel_size=(3,3),activation='relu',padding='same')(x)\n",
    "    x = BatchNormalization()(x)\n",
    "    x = MaxPooling2D(pool_size=(2,2))(x)\n",
    "    x = Dropout(0.4)(x)\n",
    "\n",
    "\n",
    "    x = Flatten()(x)\n",
    "\n",
    "    x = Dense(512,activation='relu')(x)\n",
    "    x = BatchNormalization()(x)\n",
    "    x = Dropout(0.4)(x)\n",
    "\n",
    "    x = Dense(256,activation='relu')(x)\n",
    "    x = BatchNormalization()(x)\n",
    "    x = Dropout(0.3)(x)\n",
    "\n",
    "    x = Dense(num_classes,activation='softmax')(x)\n",
    "    return Model(input,x,name='DM_model')"
   ]
  },
  {
   "cell_type": "code",
   "execution_count": 3,
   "id": "537efead",
   "metadata": {},
   "outputs": [
    {
     "name": "stdout",
     "output_type": "stream",
     "text": [
      "Model: \"DM_model\"\n",
      "_________________________________________________________________\n",
      " Layer (type)                Output Shape              Param #   \n",
      "=================================================================\n",
      " input_1 (InputLayer)        [(None, 48, 48, 1)]       0         \n",
      "                                                                 \n",
      " conv2d (Conv2D)             (None, 48, 48, 128)       1280      \n",
      "                                                                 \n",
      " batch_normalization (BatchN  (None, 48, 48, 128)      512       \n",
      " ormalization)                                                   \n",
      "                                                                 \n",
      " max_pooling2d (MaxPooling2D  (None, 24, 24, 128)      0         \n",
      " )                                                               \n",
      "                                                                 \n",
      " dropout (Dropout)           (None, 24, 24, 128)       0         \n",
      "                                                                 \n",
      " conv2d_1 (Conv2D)           (None, 24, 24, 256)       295168    \n",
      "                                                                 \n",
      " batch_normalization_1 (Batc  (None, 24, 24, 256)      1024      \n",
      " hNormalization)                                                 \n",
      "                                                                 \n",
      " max_pooling2d_1 (MaxPooling  (None, 12, 12, 256)      0         \n",
      " 2D)                                                             \n",
      "                                                                 \n",
      " dropout_1 (Dropout)         (None, 12, 12, 256)       0         \n",
      "                                                                 \n",
      " conv2d_2 (Conv2D)           (None, 12, 12, 512)       1180160   \n",
      "                                                                 \n",
      " batch_normalization_2 (Batc  (None, 12, 12, 512)      2048      \n",
      " hNormalization)                                                 \n",
      "                                                                 \n",
      " max_pooling2d_2 (MaxPooling  (None, 6, 6, 512)        0         \n",
      " 2D)                                                             \n",
      "                                                                 \n",
      " dropout_2 (Dropout)         (None, 6, 6, 512)         0         \n",
      "                                                                 \n",
      " conv2d_3 (Conv2D)           (None, 6, 6, 512)         2359808   \n",
      "                                                                 \n",
      " batch_normalization_3 (Batc  (None, 6, 6, 512)        2048      \n",
      " hNormalization)                                                 \n",
      "                                                                 \n",
      " max_pooling2d_3 (MaxPooling  (None, 3, 3, 512)        0         \n",
      " 2D)                                                             \n",
      "                                                                 \n",
      " dropout_3 (Dropout)         (None, 3, 3, 512)         0         \n",
      "                                                                 \n",
      " flatten (Flatten)           (None, 4608)              0         \n",
      "                                                                 \n",
      " dense (Dense)               (None, 512)               2359808   \n",
      "                                                                 \n",
      " batch_normalization_4 (Batc  (None, 512)              2048      \n",
      " hNormalization)                                                 \n",
      "                                                                 \n",
      " dropout_4 (Dropout)         (None, 512)               0         \n",
      "                                                                 \n",
      " dense_1 (Dense)             (None, 256)               131328    \n",
      "                                                                 \n",
      " batch_normalization_5 (Batc  (None, 256)              1024      \n",
      " hNormalization)                                                 \n",
      "                                                                 \n",
      " dropout_5 (Dropout)         (None, 256)               0         \n",
      "                                                                 \n",
      " dense_2 (Dense)             (None, 7)                 1799      \n",
      "                                                                 \n",
      "=================================================================\n",
      "Total params: 6,338,055\n",
      "Trainable params: 6,333,703\n",
      "Non-trainable params: 4,352\n",
      "_________________________________________________________________\n"
     ]
    }
   ],
   "source": [
    "if __name__=='__main__':\n",
    "    model = create_model()\n",
    "    model.summary()"
   ]
  },
  {
   "cell_type": "code",
   "execution_count": 4,
   "id": "6301f71a",
   "metadata": {},
   "outputs": [],
   "source": [
    "import tensorflow as tf\n"
   ]
  },
  {
   "cell_type": "code",
   "execution_count": 5,
   "id": "af1ec421",
   "metadata": {},
   "outputs": [
    {
     "name": "stdout",
     "output_type": "stream",
     "text": [
      "You must install pydot (`pip install pydot`) and install graphviz (see instructions at https://graphviz.gitlab.io/download/) for plot_model/model_to_dot to work.\n"
     ]
    }
   ],
   "source": [
    "import tensorflow as tf\n",
    "tf.keras.utils.plot_model (model, to_file = \"model.jpg\", show_shapes = True, show_layer_names = True)\n"
   ]
  },
  {
   "cell_type": "code",
   "execution_count": 6,
   "id": "6687693d",
   "metadata": {},
   "outputs": [],
   "source": [
    "import tensorflow as tf\n",
    "from keras_preprocessing.image import ImageDataGenerator\n",
    "from tensorflow.python.keras.callbacks import ModelCheckpoint\n",
    "\n",
    "from tensorflow.keras.callbacks import (EarlyStopping, ReduceLROnPlateau,\n",
    "                                        TensorBoard)\n",
    "from tensorflow.keras.optimizers import Adam"
   ]
  },
  {
   "cell_type": "code",
   "execution_count": 7,
   "id": "7b5d0e85",
   "metadata": {},
   "outputs": [],
   "source": [
    "#0 : sadness\n",
    "#1 : surprise\n",
    "#2 : hapinesss\n",
    "#3 : neutre\n",
    "#4 : fear\n",
    "#5 disgust\n",
    "#6 : anger"
   ]
  },
  {
   "cell_type": "code",
   "execution_count": 14,
   "id": "f08a31aa",
   "metadata": {},
   "outputs": [],
   "source": [
    "import datetime\n",
    "def train():\n",
    "    log_dir = log_dir = \"logs\\\\fit\\\\\" + datetime.datetime.now().strftime(\"%Y%m%d-%H%M%S\")\n",
    " \n",
    "    train_dataset_path=r\"C:/Users/FIRAS/Desktop/traitement/images/train\" \n",
    "    val_dataset_path = r'C:/Users/FIRAS/Desktop/traitement/images/validation'\n",
    "    test_dataset_path=r\"C:/Users/FIRAS/Desktop/traitement/images/test\"\n",
    "    batch_size = 128\n",
    "    lr = 1e-3\n",
    "    epochs = 25\n",
    "    num_classes=7 \n",
    "    train_datagen = ImageDataGenerator( \n",
    "        rescale=1 / 255.0,\n",
    "        rotation_range = 10,\n",
    "        zoom_range = 0.1,\n",
    "        horizontal_flip = True\n",
    "       )\n",
    "\n",
    "    train_generator = train_datagen.flow_from_directory(\n",
    "        directory=train_dataset_path,\n",
    "        target_size=(48, 48),\n",
    "        color_mode=\"grayscale\",\n",
    "        batch_size=batch_size,\n",
    "        class_mode=\"categorical\",\n",
    "        shuffle=True,\n",
    "        seed=42\n",
    "    )\n",
    "    test_datagen = ImageDataGenerator(\n",
    "        rescale=1 / 255.0,)\n",
    "        \n",
    "    valid_generator = test_datagen.flow_from_directory(\n",
    "        \n",
    "        directory=val_dataset_path,\n",
    "        target_size=(48, 48),\n",
    "        color_mode=\"grayscale\",\n",
    "        class_mode=\"categorical\",\n",
    "        batch_size=batch_size,\n",
    "        shuffle=True,\n",
    "        seed=42\n",
    "    )\n",
    "    test_gen = test_datagen.flow_from_directory(\n",
    "        directory=test_dataset_path,\n",
    "        target_size=(48, 48),\n",
    "        color_mode=\"grayscale\",\n",
    "        class_mode=\"categorical\",\n",
    "        batch_size=batch_size,\n",
    "        shuffle=True,\n",
    "        seed=42\n",
    "    )\n",
    "    model = create_model(num_classes=num_classes)\n",
    "\n",
    "    model.summary()\n",
    "    training_weights='./weights'  \n",
    "    checkpoint_period = ModelCheckpoint(training_weights + 'ep{epoch:03d}-loss{loss:.3f}-val_loss{val_loss:.3f}.h5',\n",
    "                                        monitor='val_loss', save_weights_only=True, save_best_only=False, period=1)\n",
    "    #reduce_lr = ReduceLROnPlateau(monitor='val_loss', factor=0.5, patience=4, verbose=1) \n",
    "    early_stopping = EarlyStopping(monitor='val_loss', min_delta=0, patience=10, verbose=1) # val_loss \n",
    "    tensorboard = TensorBoard(log_dir=log_dir, histogram_freq=1) \n",
    "    optimizer=tf.keras.optimizers.Adam(learning_rate=lr)\n",
    "    model.compile(loss=tf.keras.losses.categorical_crossentropy, metrics='acc',optimizer=optimizer)\n",
    "    model.fit(train_generator,validation_data=valid_generator,\n",
    "                       epochs=epochs,callbacks=[tensorboard, early_stopping,checkpoint_period]\n",
    "                       )\n",
    "    model.evaluate(test_gen,verbose=1)\n",
    "    model.save('./model.h5')"
   ]
  },
  {
   "cell_type": "code",
   "execution_count": 15,
   "id": "0547bdf6",
   "metadata": {},
   "outputs": [
    {
     "name": "stdout",
     "output_type": "stream",
     "text": [
      "Found 28389 images belonging to 7 classes.\n",
      "Found 6690 images belonging to 7 classes.\n",
      "Found 808 images belonging to 7 classes.\n",
      "Model: \"DM_model\"\n",
      "_________________________________________________________________\n",
      " Layer (type)                Output Shape              Param #   \n",
      "=================================================================\n",
      " input_5 (InputLayer)        [(None, 48, 48, 1)]       0         \n",
      "                                                                 \n",
      " conv2d_16 (Conv2D)          (None, 48, 48, 128)       1280      \n",
      "                                                                 \n",
      " batch_normalization_24 (Bat  (None, 48, 48, 128)      512       \n",
      " chNormalization)                                                \n",
      "                                                                 \n",
      " max_pooling2d_16 (MaxPoolin  (None, 24, 24, 128)      0         \n",
      " g2D)                                                            \n",
      "                                                                 \n",
      " dropout_24 (Dropout)        (None, 24, 24, 128)       0         \n",
      "                                                                 \n",
      " conv2d_17 (Conv2D)          (None, 24, 24, 256)       295168    \n",
      "                                                                 \n",
      " batch_normalization_25 (Bat  (None, 24, 24, 256)      1024      \n",
      " chNormalization)                                                \n",
      "                                                                 \n",
      " max_pooling2d_17 (MaxPoolin  (None, 12, 12, 256)      0         \n",
      " g2D)                                                            \n",
      "                                                                 \n",
      " dropout_25 (Dropout)        (None, 12, 12, 256)       0         \n",
      "                                                                 \n",
      " conv2d_18 (Conv2D)          (None, 12, 12, 512)       1180160   \n",
      "                                                                 \n",
      " batch_normalization_26 (Bat  (None, 12, 12, 512)      2048      \n",
      " chNormalization)                                                \n",
      "                                                                 \n",
      " max_pooling2d_18 (MaxPoolin  (None, 6, 6, 512)        0         \n",
      " g2D)                                                            \n",
      "                                                                 \n",
      " dropout_26 (Dropout)        (None, 6, 6, 512)         0         \n",
      "                                                                 \n",
      " conv2d_19 (Conv2D)          (None, 6, 6, 512)         2359808   \n",
      "                                                                 \n",
      " batch_normalization_27 (Bat  (None, 6, 6, 512)        2048      \n",
      " chNormalization)                                                \n",
      "                                                                 \n",
      " max_pooling2d_19 (MaxPoolin  (None, 3, 3, 512)        0         \n",
      " g2D)                                                            \n",
      "                                                                 \n",
      " dropout_27 (Dropout)        (None, 3, 3, 512)         0         \n",
      "                                                                 \n",
      " flatten_4 (Flatten)         (None, 4608)              0         \n",
      "                                                                 \n",
      " dense_12 (Dense)            (None, 512)               2359808   \n",
      "                                                                 \n",
      " batch_normalization_28 (Bat  (None, 512)              2048      \n",
      " chNormalization)                                                \n",
      "                                                                 \n",
      " dropout_28 (Dropout)        (None, 512)               0         \n",
      "                                                                 \n",
      " dense_13 (Dense)            (None, 256)               131328    \n",
      "                                                                 \n",
      " batch_normalization_29 (Bat  (None, 256)              1024      \n",
      " chNormalization)                                                \n",
      "                                                                 \n",
      " dropout_29 (Dropout)        (None, 256)               0         \n",
      "                                                                 \n",
      " dense_14 (Dense)            (None, 7)                 1799      \n",
      "                                                                 \n",
      "=================================================================\n",
      "Total params: 6,338,055\n",
      "Trainable params: 6,333,703\n",
      "Non-trainable params: 4,352\n",
      "_________________________________________________________________\n",
      "WARNING:tensorflow:`period` argument is deprecated. Please use `save_freq` to specify the frequency in number of batches seen.\n",
      "Epoch 1/25\n",
      "222/222 [==============================] - 801s 4s/step - loss: 2.1166 - acc: 0.2284 - val_loss: 1.9327 - val_acc: 0.2631\n",
      "Epoch 2/25\n",
      "222/222 [==============================] - 871s 4s/step - loss: 1.7284 - acc: 0.3322 - val_loss: 1.8246 - val_acc: 0.2792\n",
      "Epoch 3/25\n",
      "222/222 [==============================] - 854s 4s/step - loss: 1.5302 - acc: 0.4066 - val_loss: 1.6613 - val_acc: 0.4212\n",
      "Epoch 4/25\n",
      "222/222 [==============================] - 842s 4s/step - loss: 1.3885 - acc: 0.4681 - val_loss: 1.3274 - val_acc: 0.4997\n",
      "Epoch 5/25\n",
      "222/222 [==============================] - 835s 4s/step - loss: 1.3015 - acc: 0.5020 - val_loss: 1.2187 - val_acc: 0.5312\n",
      "Epoch 6/25\n",
      "222/222 [==============================] - 833s 4s/step - loss: 1.2503 - acc: 0.5193 - val_loss: 1.3262 - val_acc: 0.5067\n",
      "Epoch 7/25\n",
      "222/222 [==============================] - 823s 4s/step - loss: 1.2071 - acc: 0.5376 - val_loss: 1.1677 - val_acc: 0.5504\n",
      "Epoch 8/25\n",
      "222/222 [==============================] - 819s 4s/step - loss: 1.1823 - acc: 0.5482 - val_loss: 1.0974 - val_acc: 0.5857\n",
      "Epoch 9/25\n",
      "222/222 [==============================] - 825s 4s/step - loss: 1.1597 - acc: 0.5575 - val_loss: 1.1161 - val_acc: 0.5746\n",
      "Epoch 10/25\n",
      "222/222 [==============================] - 811s 4s/step - loss: 1.1307 - acc: 0.5716 - val_loss: 1.1579 - val_acc: 0.5616\n",
      "Epoch 11/25\n",
      "222/222 [==============================] - 831s 4s/step - loss: 1.1127 - acc: 0.5791 - val_loss: 1.0720 - val_acc: 0.6030\n",
      "Epoch 12/25\n",
      "222/222 [==============================] - 846s 4s/step - loss: 1.0925 - acc: 0.5849 - val_loss: 1.0859 - val_acc: 0.5831\n",
      "Epoch 13/25\n",
      "222/222 [==============================] - 842s 4s/step - loss: 1.0764 - acc: 0.5935 - val_loss: 1.0678 - val_acc: 0.5993\n",
      "Epoch 14/25\n",
      "222/222 [==============================] - 913s 4s/step - loss: 1.0657 - acc: 0.5938 - val_loss: 1.0258 - val_acc: 0.6223\n",
      "Epoch 15/25\n",
      "222/222 [==============================] - 797s 4s/step - loss: 1.0487 - acc: 0.6045 - val_loss: 1.0492 - val_acc: 0.6037\n",
      "Epoch 16/25\n",
      "222/222 [==============================] - 802s 4s/step - loss: 1.0229 - acc: 0.6134 - val_loss: 1.0795 - val_acc: 0.5927\n",
      "Epoch 17/25\n",
      "222/222 [==============================] - 829s 4s/step - loss: 1.0150 - acc: 0.6168 - val_loss: 1.0468 - val_acc: 0.6090\n",
      "Epoch 18/25\n",
      "222/222 [==============================] - 797s 4s/step - loss: 1.0064 - acc: 0.6217 - val_loss: 0.9981 - val_acc: 0.6263\n",
      "Epoch 19/25\n",
      "222/222 [==============================] - 773s 3s/step - loss: 0.9944 - acc: 0.6255 - val_loss: 1.0345 - val_acc: 0.6196\n",
      "Epoch 20/25\n",
      "222/222 [==============================] - 772s 3s/step - loss: 0.9814 - acc: 0.6290 - val_loss: 0.9899 - val_acc: 0.6305\n",
      "Epoch 21/25\n",
      "222/222 [==============================] - 785s 4s/step - loss: 0.9655 - acc: 0.6381 - val_loss: 1.0437 - val_acc: 0.6149\n",
      "Epoch 22/25\n",
      "222/222 [==============================] - 769s 3s/step - loss: 0.9629 - acc: 0.6372 - val_loss: 1.0722 - val_acc: 0.5972\n",
      "Epoch 23/25\n",
      "222/222 [==============================] - 772s 3s/step - loss: 0.9468 - acc: 0.6435 - val_loss: 1.0141 - val_acc: 0.6260\n",
      "Epoch 24/25\n",
      "222/222 [==============================] - 773s 3s/step - loss: 0.9297 - acc: 0.6553 - val_loss: 1.0153 - val_acc: 0.6271\n",
      "Epoch 25/25\n",
      "222/222 [==============================] - 772s 3s/step - loss: 0.9296 - acc: 0.6502 - val_loss: 1.0970 - val_acc: 0.5961\n",
      "7/7 [==============================] - 4s 633ms/step - loss: 1.2557 - acc: 0.5446\n"
     ]
    }
   ],
   "source": [
    "if __name__=='__main__':\n",
    "    train()"
   ]
  },
  {
   "cell_type": "code",
   "execution_count": 1,
   "id": "b7a478eb",
   "metadata": {},
   "outputs": [
    {
     "name": "stderr",
     "output_type": "stream",
     "text": [
      "Erreurÿ: le processus \"tensorboard.exe\" est introuvable.\n"
     ]
    }
   ],
   "source": [
    "!taskkill /IM \"tensorboard.exe\" /F\n",
    "!rmdir /S /Q %temp%\\.tensorboard-info"
   ]
  },
  {
   "cell_type": "code",
   "execution_count": 2,
   "id": "0e912ebb",
   "metadata": {},
   "outputs": [
    {
     "data": {
      "text/html": [
       "\n",
       "      <iframe id=\"tensorboard-frame-a2d254a4e7e07c48\" width=\"100%\" height=\"800\" frameborder=\"0\">\n",
       "      </iframe>\n",
       "      <script>\n",
       "        (function() {\n",
       "          const frame = document.getElementById(\"tensorboard-frame-a2d254a4e7e07c48\");\n",
       "          const url = new URL(\"/\", window.location);\n",
       "          const port = 6006;\n",
       "          if (port) {\n",
       "            url.port = port;\n",
       "          }\n",
       "          frame.src = url;\n",
       "        })();\n",
       "      </script>\n",
       "    "
      ],
      "text/plain": [
       "<IPython.core.display.HTML object>"
      ]
     },
     "metadata": {},
     "output_type": "display_data"
    }
   ],
   "source": [
    "%load_ext tensorboard\n",
    "%tensorboard --logdir \"logs/fit\""
   ]
  },
  {
   "cell_type": "code",
   "execution_count": 16,
   "id": "2eaee7b4",
   "metadata": {},
   "outputs": [],
   "source": [
    "from keras.models import load_model"
   ]
  },
  {
   "cell_type": "code",
   "execution_count": 17,
   "id": "f3b34cdd",
   "metadata": {},
   "outputs": [],
   "source": [
    "classifier =load_model(r'.\\model.h5')"
   ]
  },
  {
   "cell_type": "code",
   "execution_count": 18,
   "id": "a4b227e8",
   "metadata": {},
   "outputs": [
    {
     "name": "stdout",
     "output_type": "stream",
     "text": [
      "Found 808 images belonging to 7 classes.\n"
     ]
    }
   ],
   "source": [
    "test_dataset_path=r\"C:/Users/FIRAS/Desktop/traitement/images/test\"\n",
    "test_datagen = ImageDataGenerator(\n",
    "        rescale=1 / 255.0,)\n",
    "test_gen = test_datagen.flow_from_directory(\n",
    "        directory=test_dataset_path,\n",
    "        target_size=(48, 48),\n",
    "        color_mode=\"grayscale\",\n",
    "        class_mode=\"categorical\",\n",
    "        batch_size=128,\n",
    "        shuffle=True,\n",
    "        seed=42\n",
    "    )"
   ]
  },
  {
   "cell_type": "code",
   "execution_count": 19,
   "id": "ba0f0f7d",
   "metadata": {},
   "outputs": [
    {
     "name": "stdout",
     "output_type": "stream",
     "text": [
      "7/7 [==============================] - 3s 453ms/step - loss: 1.2557 - acc: 0.5446\n",
      "7/7 [==============================] - 4s 477ms/step\n",
      "The current model achieved a categorical accuracy of 54.46%!\n"
     ]
    }
   ],
   "source": [
    "results = classifier.evaluate(test_gen)\n",
    "preds   = classifier.predict(test_gen)\n",
    "print('The current model achieved a categorical accuracy of {}%!'.format(round(results[1]*100,2)))"
   ]
  },
  {
   "cell_type": "code",
   "execution_count": 20,
   "id": "16bd0155",
   "metadata": {},
   "outputs": [
    {
     "name": "stdout",
     "output_type": "stream",
     "text": [
      "7/7 [==============================] - 3s 466ms/step\n"
     ]
    }
   ],
   "source": [
    "import numpy as np\n",
    "from sklearn.metrics import confusion_matrix\n",
    "from sklearn.metrics import roc_curve, auc, multilabel_confusion_matrix\n",
    "\n",
    "# compute predictions\n",
    "predictions = classifier.predict(test_gen)\n",
    "y_pred = [np.argmax(probas) for probas in predictions]\n",
    "y_test = test_gen.classes\n",
    "class_names = test_gen.class_indices.keys()"
   ]
  },
  {
   "cell_type": "code",
   "execution_count": 21,
   "id": "52cc2fa5",
   "metadata": {},
   "outputs": [],
   "source": [
    "import matplotlib.pyplot as plt\n",
    "import itertools\n",
    "def plot_confusion_matrix(cm, classes, title='Confusion matrix', cmap=plt.cm.Blues):\n",
    "    cm = cm.astype('float') / cm.sum(axis=1)[:, np.newaxis]\n",
    "    plt.figure(figsize=(10,10))\n",
    "    plt.imshow(cm, interpolation='nearest', cmap=cmap)\n",
    "    plt.title(title)\n",
    "    plt.colorbar()\n",
    "    tick_marks = np.arange(len(classes))\n",
    "    plt.xticks(tick_marks, classes, rotation=45)\n",
    "    plt.yticks(tick_marks, classes)\n",
    "\n",
    "    fmt = '.2f'\n",
    "    thresh = cm.max() / 2.\n",
    "    for i, j in itertools.product(range(cm.shape[0]), range(cm.shape[1])):\n",
    "        plt.text(j, i, format(cm[i, j], fmt),\n",
    "                 horizontalalignment=\"center\",\n",
    "                 color=\"white\" if cm[i, j] > thresh else \"black\")\n",
    "\n",
    "    plt.ylabel('True label')\n",
    "    plt.xlabel('Predicted label')\n",
    "    plt.tight_layout()"
   ]
  },
  {
   "cell_type": "code",
   "execution_count": 22,
   "id": "132e31d4",
   "metadata": {},
   "outputs": [
    {
     "data": {
      "text/plain": [
       "<Figure size 432x288 with 0 Axes>"
      ]
     },
     "metadata": {},
     "output_type": "display_data"
    },
    {
     "data": {
      "image/png": "[encoded data removed]",
      "text/plain": [
       "<Figure size 720x720 with 2 Axes>"
      ]
     },
     "metadata": {
      "needs_background": "light"
     },
     "output_type": "display_data"
    }
   ],
   "source": [
    "# compute confusion matrix\n",
    "cnf_matrix = confusion_matrix(y_test, y_pred)\n",
    "np.set_printoptions(precision=2)\n",
    "# plot normalized confusion matrix\n",
    "plt.figure()\n",
    "plot_confusion_matrix(cnf_matrix, classes=class_names, title='Normalized confusion matrix')\n",
    "plt.show()"
   ]
  },
  {
   "cell_type": "code",
   "execution_count": null,
   "id": "a5016af7",
   "metadata": {},
   "outputs": [],
   "source": []
  }
 ],
 "metadata": {
  "kernelspec": {
   "display_name": "Python 3 (ipykernel)",
   "language": "python",
   "name": "python3"
  },
  "language_info": {
   "codemirror_mode": {
    "name": "ipython",
    "version": 3
   },
   "file_extension": ".py",
   "mimetype": "text/x-python",
   "name": "python",
   "nbconvert_exporter": "python",
   "pygments_lexer": "ipython3",
   "version": "3.10.3"
  }
 },
 "nbformat": 4,
 "nbformat_minor": 5
}
